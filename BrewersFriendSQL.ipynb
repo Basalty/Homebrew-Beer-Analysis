{
 "cells": [
  {
   "cell_type": "code",
   "execution_count": 1,
   "id": "b44c149d",
   "metadata": {},
   "outputs": [],
   "source": [
    "import json\n",
    "import pandas as pd\n",
    "import sqlalchemy\n",
    "import urllib\n",
    "from sqlalchemy import create_engine\n",
    "from sqlalchemy import Table, Column, Integer, String, MetaData, ForeignKey\n",
    "from sqlalchemy import inspect"
   ]
  },
  {
   "cell_type": "code",
   "execution_count": 6,
   "id": "dafa5b10",
   "metadata": {},
   "outputs": [],
   "source": [
    "#Connect to MSSQL\n",
    "params = urllib.parse.quote_plus(\"DRIVER={ODBC Driver 17 for SQL Server};SERVER=DESKTOP-R3NS070; DATABASE=Beer; UID=tlt23; PWD=password; Trusted_Connection=yes;\")\n",
    "\n",
    "#Engine\n",
    "cnxn = create_engine(\"mssql+pyodbc:///?odbc_connect=%s\" % params)\n",
    "\n",
    "# If issues connecting in the future due to ODBC Driver, make sure that MS SQL Server Mgnt Studio is updated.\n"
   ]
  },
  {
   "cell_type": "code",
   "execution_count": 3,
   "id": "134cb980",
   "metadata": {},
   "outputs": [],
   "source": [
    "#opening JSON file and loading data\n",
    "#orient='index' added to make sure data loaded long instead of wide\n",
    "with open(r'D:\\Datasets\\Resume Projects\\homebrew beer recipes\\recipes_full.json.txt', encoding='utf-8-sig') as beer:\n",
    "    beer = pd.read_json(beer, orient='index')"
   ]
  },
  {
   "cell_type": "code",
   "execution_count": 4,
   "id": "819b3a9f",
   "metadata": {},
   "outputs": [
    {
     "name": "stdout",
     "output_type": "stream",
     "text": [
      "0                           Vanilla Cream Ale\n",
      "1          Avg. Perfect Northeast IPA (NEIPA)\n",
      "2                Sierra Nevada Pale Ale Clone\n",
      "3               Zombie Dust Clone - ALL GRAIN\n",
      "4    Russian River Pliny the Elder (original)\n",
      "Name: name, dtype: object\n",
      "179455           Awesome Recipe\n",
      "179456               Lime split\n",
      "179457           Awesome Recipe\n",
      "179458    Goldzacca Session IPA\n",
      "179459           Awesome Recipe\n",
      "Name: name, dtype: object\n"
     ]
    }
   ],
   "source": [
    "#to verify it loaded correctly\n",
    "print(beer[\"name\"].head(5))\n",
    "print(beer[\"name\"].tail(5))"
   ]
  },
  {
   "cell_type": "code",
   "execution_count": 11,
   "id": "909f4389",
   "metadata": {},
   "outputs": [],
   "source": [
    "#Creading an ID column for the table\n",
    "numbers = range(0,179455)\n",
    "id = []\n",
    "for number in numbers:\n",
    "    id.append(number)\n",
    "\n",
    "\n",
    "#Create SQL Table with Parameters and execute\n",
    "sql = \"CREATE TABLE BeerInfo(id INTEGER PRIMARY KEY, name nvarchar(MAX), method nvarchar(MAX), style nvarchar(MAX), batch float, og float, fg float, abv float, ibu float, [ph mash] real)\"\n",
    "cnxn.execute(sql)\n",
    "\n",
    "#Create Dictionary of names w/ data \n",
    "beer1 = {\"id\":id,\"name\": beer[\"name\"], \"method\":beer[\"method\"], \"style\":beer[\"style\"], \"batch\":beer[\"batch\"], \"og\":beer[\"og\"], \"fg\":beer[\"fg\"], \"abv\":beer[\"abv\"], \"ibu\":beer[\"ibu\"], \"ph mash\":beer[\"ph mash\"]}\n",
    "\n",
    "#Check that Dict works\n",
    "beer1[\"og\"][0]\n",
    "\n",
    "#Create datafrom from dictionary and Send to SQL\n",
    "beer2 = pd.DataFrame.from_dict(beer1)\n",
    "beer2.to_sql('BeerInfo', con=cnxn, index=False, if_exists='replace', method='multi', chunksize=100)"
   ]
  },
  {
   "cell_type": "code",
   "execution_count": 12,
   "id": "1f205efb",
   "metadata": {},
   "outputs": [
    {
     "name": "stdout",
     "output_type": "stream",
     "text": [
      "[[2.3810000000000002, 'American - Pale 2-Row', 37.0, 1.8, 44.7], [0.907, 'American - White Wheat', 40.0, 2.8, 17.0], [0.907, 'American - Pale 6-Row', 35.0, 1.8, 17.0], [0.227, 'Flaked Corn', 40.0, 0.5, 4.3], [0.227, 'American - Caramel / Crystal 20L', 35.0, 20.0, 4.3], [0.227, 'American - Carapils (Dextrine Malt)', 33.0, 1.8, 4.3], [0.113, 'Flaked Barley', 32.0, 2.2, 2.1], [0.34, 'Honey', 42.0, 2.0, 6.4]]\n"
     ]
    }
   ],
   "source": [
    "#loop through the outer most list and get the index of each element using enumerate. \n",
    "#Then, loop through each inner list, prepend the index to each of the 5 element lists and combine them into one main list, \n",
    "#data_id, and finally convert the main list into a dataframe that can be written to the database\n",
    "## Example of list of lists w/ Fermentabels and why this is necessary to access to each element of the list\n",
    "### Needed 'enumerate' in order to assign each element to the corresponding Beer\n",
    "print(beer[\"fermentables\"][0])"
   ]
  },
  {
   "cell_type": "code",
   "execution_count": 18,
   "id": "97593879",
   "metadata": {},
   "outputs": [],
   "source": [
    "######################### New Table for Fermentables #########################"
   ]
  },
  {
   "cell_type": "code",
   "execution_count": 40,
   "id": "c923cbd2",
   "metadata": {},
   "outputs": [],
   "source": [
    "data_id = []\n",
    "for ind, d in enumerate(beer[\"fermentables\"]):\n",
    "    for a in d:\n",
    "        a.insert(0, ind)\n",
    "        data_id.append(a)\n",
    "df = pd.DataFrame(data_id)\n",
    "\n",
    "\n",
    "fermnum = range(0,675287)\n",
    "fermid = []\n",
    "for number in fermnum:\n",
    "    fermid.append(number)"
   ]
  },
  {
   "cell_type": "code",
   "execution_count": 15,
   "id": "9983ef76",
   "metadata": {},
   "outputs": [],
   "source": [
    "df.columns = ['Beerid', 'Weight', 'GrainName', 'PPG', 'DegLitner', 'GrainBill']"
   ]
  },
  {
   "cell_type": "code",
   "execution_count": 16,
   "id": "a42f7920",
   "metadata": {},
   "outputs": [
    {
     "data": {
      "text/plain": [
       "<sqlalchemy.engine.cursor.LegacyCursorResult at 0x24482d8a1c8>"
      ]
     },
     "execution_count": 16,
     "metadata": {},
     "output_type": "execute_result"
    }
   ],
   "source": [
    "sql = \"CREATE TABLE Fermentables(ID INTEGER PRIMARY KEY, BeerID int NOT NULL, Weight float, GrainName nvarchar(MAX), PPG float, DegLitner float, GrainBill float)\"\n",
    "cnxn.execute(sql)"
   ]
  },
  {
   "cell_type": "code",
   "execution_count": 17,
   "id": "3f0d38dc",
   "metadata": {},
   "outputs": [],
   "source": [
    "ferm1 = {\"ID\":fermid, \"BeerID\":df[\"Beerid\"],\"Weight\": df[\"Weight\"], \"GrainName\":df[\"GrainName\"], \"PPG\":df[\"PPG\"], \"DegLitner\":df[\"DegLitner\"], \"GrainBill\":df[\"GrainBill\"]}\n",
    "ferm2 = pd.DataFrame.from_dict(ferm1)\n",
    "\n",
    "ferm2.to_sql('Fermentables', con=cnxn, index=False, if_exists='replace', method='multi', chunksize=100)"
   ]
  },
  {
   "cell_type": "code",
   "execution_count": 19,
   "id": "1e6b1f0a",
   "metadata": {},
   "outputs": [],
   "source": [
    "######################### New Table for Hops #########################"
   ]
  },
  {
   "cell_type": "code",
   "execution_count": 20,
   "id": "eaecb140",
   "metadata": {},
   "outputs": [],
   "source": [
    "hops_id = []\n",
    "for ind, d in enumerate(beer[\"hops\"]):\n",
    "    for a in d:\n",
    "        a.insert(0, ind)\n",
    "        hops_id.append(a)\n",
    "hops = pd.DataFrame(hops_id)\n",
    "\n",
    "hopsnum = range(0,621055)\n",
    "hopsid = []\n",
    "for number in hopsnum:\n",
    "    hopsid.append(number)"
   ]
  },
  {
   "cell_type": "code",
   "execution_count": 21,
   "id": "ce8bebb3",
   "metadata": {},
   "outputs": [],
   "source": [
    "hops.columns = ['Beerid', 'Weight', 'HopsName', 'Type', 'AlphaAcids', 'Process', 'ProcessTime', 'IBU', \"HopsBill\"]"
   ]
  },
  {
   "cell_type": "code",
   "execution_count": 23,
   "id": "408e8af8",
   "metadata": {},
   "outputs": [
    {
     "name": "stdout",
     "output_type": "stream",
     "text": [
      "0    60 min\n",
      "1    20 min\n",
      "2     5 min\n",
      "3    10 min\n",
      "4    10 min\n",
      "Name: ProcessTime, dtype: object\n"
     ]
    }
   ],
   "source": [
    "#ProcessTime is a column of character that needs to be split.\n",
    "print(hops[\"ProcessTime\"].head(5))"
   ]
  },
  {
   "cell_type": "code",
   "execution_count": 24,
   "id": "f6a2e6fc",
   "metadata": {},
   "outputs": [],
   "source": [
    "#split into numbers from strings\n",
    "Process = hops[\"ProcessTime\"].str.split(\" \", n=1, expand=True)\n",
    "Process = pd.DataFrame(Process)"
   ]
  },
  {
   "cell_type": "code",
   "execution_count": 25,
   "id": "68a249c7",
   "metadata": {},
   "outputs": [
    {
     "name": "stdout",
     "output_type": "stream",
     "text": [
      "0    60\n",
      "1    20\n",
      "2     5\n",
      "3    10\n",
      "4    10\n",
      "Name: 0, dtype: object\n",
      "0    min\n",
      "1    min\n",
      "2    min\n",
      "3    min\n",
      "4    min\n",
      "Name: 1, dtype: object\n"
     ]
    }
   ],
   "source": [
    "#Sucessfully split\n",
    "print(Process[0].head(5))\n",
    "print(Process[1].head(5))"
   ]
  },
  {
   "cell_type": "code",
   "execution_count": 26,
   "id": "ca39e2ef",
   "metadata": {},
   "outputs": [
    {
     "ename": "ValueError",
     "evalue": "Unable to parse string \"Day\" at position 4028",
     "output_type": "error",
     "traceback": [
      "\u001b[1;31m---------------------------------------------------------------------------\u001b[0m",
      "\u001b[1;31mValueError\u001b[0m                                Traceback (most recent call last)",
      "\u001b[1;32mpandas\\_libs\\lib.pyx\u001b[0m in \u001b[0;36mpandas._libs.lib.maybe_convert_numeric\u001b[1;34m()\u001b[0m\n",
      "\u001b[1;31mValueError\u001b[0m: Unable to parse string \"Day\"",
      "\nDuring handling of the above exception, another exception occurred:\n",
      "\u001b[1;31mValueError\u001b[0m                                Traceback (most recent call last)",
      "\u001b[1;32m~\\AppData\\Local\\Temp/ipykernel_19724/2819070023.py\u001b[0m in \u001b[0;36m<module>\u001b[1;34m\u001b[0m\n\u001b[0;32m      1\u001b[0m \u001b[1;31m# Make sure all of Process 0 is numeric\u001b[0m\u001b[1;33m\u001b[0m\u001b[1;33m\u001b[0m\u001b[1;33m\u001b[0m\u001b[0m\n\u001b[1;32m----> 2\u001b[1;33m \u001b[0mProcess\u001b[0m\u001b[1;33m[\u001b[0m\u001b[1;36m0\u001b[0m\u001b[1;33m]\u001b[0m \u001b[1;33m=\u001b[0m \u001b[0mpd\u001b[0m\u001b[1;33m.\u001b[0m\u001b[0mto_numeric\u001b[0m\u001b[1;33m(\u001b[0m\u001b[0mProcess\u001b[0m\u001b[1;33m[\u001b[0m\u001b[1;36m0\u001b[0m\u001b[1;33m]\u001b[0m\u001b[1;33m)\u001b[0m\u001b[1;33m\u001b[0m\u001b[1;33m\u001b[0m\u001b[0m\n\u001b[0m",
      "\u001b[1;32m~\\Anaconda3\\lib\\site-packages\\pandas\\core\\tools\\numeric.py\u001b[0m in \u001b[0;36mto_numeric\u001b[1;34m(arg, errors, downcast)\u001b[0m\n\u001b[0;32m    151\u001b[0m         \u001b[1;32mtry\u001b[0m\u001b[1;33m:\u001b[0m\u001b[1;33m\u001b[0m\u001b[1;33m\u001b[0m\u001b[0m\n\u001b[0;32m    152\u001b[0m             values = lib.maybe_convert_numeric(\n\u001b[1;32m--> 153\u001b[1;33m                 \u001b[0mvalues\u001b[0m\u001b[1;33m,\u001b[0m \u001b[0mset\u001b[0m\u001b[1;33m(\u001b[0m\u001b[1;33m)\u001b[0m\u001b[1;33m,\u001b[0m \u001b[0mcoerce_numeric\u001b[0m\u001b[1;33m=\u001b[0m\u001b[0mcoerce_numeric\u001b[0m\u001b[1;33m\u001b[0m\u001b[1;33m\u001b[0m\u001b[0m\n\u001b[0m\u001b[0;32m    154\u001b[0m             )\n\u001b[0;32m    155\u001b[0m         \u001b[1;32mexcept\u001b[0m \u001b[1;33m(\u001b[0m\u001b[0mValueError\u001b[0m\u001b[1;33m,\u001b[0m \u001b[0mTypeError\u001b[0m\u001b[1;33m)\u001b[0m\u001b[1;33m:\u001b[0m\u001b[1;33m\u001b[0m\u001b[1;33m\u001b[0m\u001b[0m\n",
      "\u001b[1;32mpandas\\_libs\\lib.pyx\u001b[0m in \u001b[0;36mpandas._libs.lib.maybe_convert_numeric\u001b[1;34m()\u001b[0m\n",
      "\u001b[1;31mValueError\u001b[0m: Unable to parse string \"Day\" at position 4028"
     ]
    }
   ],
   "source": [
    "# Make sure all of Process 0 is numeric\n",
    "Process[0] = pd.to_numeric(Process[0])\n"
   ]
  },
  {
   "cell_type": "code",
   "execution_count": 28,
   "id": "5601686b",
   "metadata": {},
   "outputs": [
    {
     "data": {
      "text/html": [
       "<div>\n",
       "<style scoped>\n",
       "    .dataframe tbody tr th:only-of-type {\n",
       "        vertical-align: middle;\n",
       "    }\n",
       "\n",
       "    .dataframe tbody tr th {\n",
       "        vertical-align: top;\n",
       "    }\n",
       "\n",
       "    .dataframe thead th {\n",
       "        text-align: right;\n",
       "    }\n",
       "</style>\n",
       "<table border=\"1\" class=\"dataframe\">\n",
       "  <thead>\n",
       "    <tr style=\"text-align: right;\">\n",
       "      <th></th>\n",
       "      <th>0</th>\n",
       "      <th>1</th>\n",
       "    </tr>\n",
       "  </thead>\n",
       "  <tbody>\n",
       "    <tr>\n",
       "      <th>4027</th>\n",
       "      <td>10</td>\n",
       "      <td>min</td>\n",
       "    </tr>\n",
       "  </tbody>\n",
       "</table>\n",
       "</div>"
      ],
      "text/plain": [
       "       0    1\n",
       "4027  10  min"
      ]
     },
     "execution_count": 28,
     "metadata": {},
     "output_type": "execute_result"
    }
   ],
   "source": [
    "#\"ValueError: Unable to parse string \"Day\" at position 4028\"\n",
    "##Meaning there was some scraped data that got mixed up between time and time unit\n",
    "## Example:\n",
    "    ## Should be - \n",
    "Process.loc[[4027]]\n"
   ]
  },
  {
   "cell_type": "code",
   "execution_count": 29,
   "id": "c0929cf3",
   "metadata": {},
   "outputs": [
    {
     "data": {
      "text/html": [
       "<div>\n",
       "<style scoped>\n",
       "    .dataframe tbody tr th:only-of-type {\n",
       "        vertical-align: middle;\n",
       "    }\n",
       "\n",
       "    .dataframe tbody tr th {\n",
       "        vertical-align: top;\n",
       "    }\n",
       "\n",
       "    .dataframe thead th {\n",
       "        text-align: right;\n",
       "    }\n",
       "</style>\n",
       "<table border=\"1\" class=\"dataframe\">\n",
       "  <thead>\n",
       "    <tr style=\"text-align: right;\">\n",
       "      <th></th>\n",
       "      <th>0</th>\n",
       "      <th>1</th>\n",
       "    </tr>\n",
       "  </thead>\n",
       "  <tbody>\n",
       "    <tr>\n",
       "      <th>4028</th>\n",
       "      <td>Day</td>\n",
       "      <td>5</td>\n",
       "    </tr>\n",
       "  </tbody>\n",
       "</table>\n",
       "</div>"
      ],
      "text/plain": [
       "        0  1\n",
       "4028  Day  5"
      ]
     },
     "execution_count": 29,
     "metadata": {},
     "output_type": "execute_result"
    }
   ],
   "source": [
    "    ## Instead, it looks like:\n",
    "Process.loc[[4028]]\n",
    "    ##Intuitiviely, it should be 5 days, so correcting this"
   ]
  },
  {
   "cell_type": "code",
   "execution_count": 30,
   "id": "5d98ab29",
   "metadata": {},
   "outputs": [
    {
     "name": "stdout",
     "output_type": "stream",
     "text": [
      "2114\n"
     ]
    }
   ],
   "source": [
    "## Count the number of \"Day\"'s in wrong column and make a list of the index numbers\n",
    "x = Process.index[Process[0] == \"Day\"]\n",
    "print(len(x))"
   ]
  },
  {
   "cell_type": "code",
   "execution_count": 31,
   "id": "c11c416e",
   "metadata": {},
   "outputs": [],
   "source": [
    "#There are 2,114 rows that incorrectly have \"Day\" However, we know the correct number is in Process[1]\n",
    "#So we can just replace 'Day' with the correct number by referencing Process[1] and using our x list of index numbers\n",
    "for indexnumber in x:\n",
    "    Process[0][indexnumber] = Process[1][indexnumber]"
   ]
  },
  {
   "cell_type": "code",
   "execution_count": 32,
   "id": "a9cc55a3",
   "metadata": {},
   "outputs": [],
   "source": [
    "# Use the same index numbers from list x to replace the numbers with 'days'\n",
    "for indexnumber in x:\n",
    "    Process.loc[indexnumber,1] = 'days'"
   ]
  },
  {
   "cell_type": "code",
   "execution_count": 33,
   "id": "f8b7bb86",
   "metadata": {},
   "outputs": [],
   "source": [
    "# Make sure all of Process[ 0 ]is finally numeric\n",
    "Process[0] = pd.to_numeric(Process[0])"
   ]
  },
  {
   "cell_type": "code",
   "execution_count": 34,
   "id": "e7a0a56b",
   "metadata": {},
   "outputs": [],
   "source": [
    "#When investigating previous error, I found that there were a few '10080 days'\n",
    "## But I know that 10080 minutes is how many minutes in a week\n",
    "## So to correct this - \n",
    "z = Process.index[Process[0] == 10080]\n",
    "\n",
    "for indexnumber in z:\n",
    "    Process.loc[indexnumber, 0] = 7"
   ]
  },
  {
   "cell_type": "code",
   "execution_count": 35,
   "id": "dc2d44c1",
   "metadata": {},
   "outputs": [
    {
     "ename": "ValueError",
     "evalue": "Unable to parse string \"23 ml\" at position 20729",
     "output_type": "error",
     "traceback": [
      "\u001b[1;31m---------------------------------------------------------------------------\u001b[0m",
      "\u001b[1;31mValueError\u001b[0m                                Traceback (most recent call last)",
      "\u001b[1;32mpandas\\_libs\\lib.pyx\u001b[0m in \u001b[0;36mpandas._libs.lib.maybe_convert_numeric\u001b[1;34m()\u001b[0m\n",
      "\u001b[1;31mValueError\u001b[0m: Unable to parse string \"23 ml\"",
      "\nDuring handling of the above exception, another exception occurred:\n",
      "\u001b[1;31mValueError\u001b[0m                                Traceback (most recent call last)",
      "\u001b[1;32m~\\AppData\\Local\\Temp/ipykernel_19724/757916881.py\u001b[0m in \u001b[0;36m<module>\u001b[1;34m\u001b[0m\n\u001b[0;32m      1\u001b[0m \u001b[1;31m#Same as for Process, there are some Weight that include units and forces the dtype to be character.\u001b[0m\u001b[1;33m\u001b[0m\u001b[1;33m\u001b[0m\u001b[1;33m\u001b[0m\u001b[0m\n\u001b[1;32m----> 2\u001b[1;33m \u001b[0mpd\u001b[0m\u001b[1;33m.\u001b[0m\u001b[0mto_numeric\u001b[0m\u001b[1;33m(\u001b[0m\u001b[0mhops\u001b[0m\u001b[1;33m[\u001b[0m\u001b[1;34m\"Weight\"\u001b[0m\u001b[1;33m]\u001b[0m\u001b[1;33m)\u001b[0m \u001b[1;31m#The error code here tells you where the perps start\u001b[0m\u001b[1;33m\u001b[0m\u001b[1;33m\u001b[0m\u001b[0m\n\u001b[0m",
      "\u001b[1;32m~\\Anaconda3\\lib\\site-packages\\pandas\\core\\tools\\numeric.py\u001b[0m in \u001b[0;36mto_numeric\u001b[1;34m(arg, errors, downcast)\u001b[0m\n\u001b[0;32m    151\u001b[0m         \u001b[1;32mtry\u001b[0m\u001b[1;33m:\u001b[0m\u001b[1;33m\u001b[0m\u001b[1;33m\u001b[0m\u001b[0m\n\u001b[0;32m    152\u001b[0m             values = lib.maybe_convert_numeric(\n\u001b[1;32m--> 153\u001b[1;33m                 \u001b[0mvalues\u001b[0m\u001b[1;33m,\u001b[0m \u001b[0mset\u001b[0m\u001b[1;33m(\u001b[0m\u001b[1;33m)\u001b[0m\u001b[1;33m,\u001b[0m \u001b[0mcoerce_numeric\u001b[0m\u001b[1;33m=\u001b[0m\u001b[0mcoerce_numeric\u001b[0m\u001b[1;33m\u001b[0m\u001b[1;33m\u001b[0m\u001b[0m\n\u001b[0m\u001b[0;32m    154\u001b[0m             )\n\u001b[0;32m    155\u001b[0m         \u001b[1;32mexcept\u001b[0m \u001b[1;33m(\u001b[0m\u001b[0mValueError\u001b[0m\u001b[1;33m,\u001b[0m \u001b[0mTypeError\u001b[0m\u001b[1;33m)\u001b[0m\u001b[1;33m:\u001b[0m\u001b[1;33m\u001b[0m\u001b[1;33m\u001b[0m\u001b[0m\n",
      "\u001b[1;32mpandas\\_libs\\lib.pyx\u001b[0m in \u001b[0;36mpandas._libs.lib.maybe_convert_numeric\u001b[1;34m()\u001b[0m\n",
      "\u001b[1;31mValueError\u001b[0m: Unable to parse string \"23 ml\" at position 20729"
     ]
    }
   ],
   "source": [
    "#Same as for Process, there are some Weight that include units and forces the dtype to be character.\n",
    "pd.to_numeric(hops[\"Weight\"]) #The error code here tells you where the perps start and gives you an idea of how to correct it"
   ]
  },
  {
   "cell_type": "code",
   "execution_count": 38,
   "id": "f777fcf8",
   "metadata": {},
   "outputs": [
    {
     "name": "stdout",
     "output_type": "stream",
     "text": [
      "23\n"
     ]
    }
   ],
   "source": [
    "#Slightly more straightforward approach than for Process\n",
    "hops[\"Weight\"] = hops[\"Weight\"].astype(str) #convert column to strings so that the random ml's can be removed\n",
    "hops[\"Weight\"] = hops[\"Weight\"].map(lambda x: x.rstrip(' ml')) #strip the extra\n",
    "pd.to_numeric(hops[\"Weight\"]) #Successfully transformed to numeric for SQL use.\n",
    "print(hops[\"Weight\"][20729])"
   ]
  },
  {
   "cell_type": "code",
   "execution_count": 39,
   "id": "46ff7923",
   "metadata": {},
   "outputs": [],
   "source": [
    "#Create sql table Hops and execute\n",
    "sql = \"CREATE TABLE Hops(ID INTEGER PRIMARY KEY, BeerID int NOT NULL, Weight float, HopsName nvarchar(MAX), Type nvarchar(MAX), AlphaAcids float, Process nvarchar(MAX), ProcessTime float, ProcessUnit nvarchar(MAX), IBU float, HopsBill float)\"\n",
    "cnxn.execute(sql)\n",
    "\n",
    "#Hops columns as Dictionary\n",
    "hops1 = {\"ID\":hopsid, \"BeerID\":hops[\"Beerid\"],\"Weight\": hops[\"Weight\"], \"HopsName\":hops[\"HopsName\"], \"Type\":hops[\"Type\"], \"AlphaAcids\":hops[\"AlphaAcids\"], \"Process\":hops[\"Process\"], \"ProcessTime\":Process[0], \"ProcessUnit\":Process[1], \"IBU\":hops[\"IBU\"], \"HopsBill\":hops[\"HopsBill\"]}\n",
    "hops2 = pd.DataFrame.from_dict(hops1)\n",
    "\n",
    "#Add data to columns in SQL\n",
    "hops2.to_sql('Hops', con=cnxn, index=False, if_exists='replace', method='multi', chunksize=100)"
   ]
  },
  {
   "cell_type": "code",
   "execution_count": null,
   "id": "f5cbf156",
   "metadata": {},
   "outputs": [],
   "source": []
  }
 ],
 "metadata": {
  "kernelspec": {
   "display_name": "Python 3 (ipykernel)",
   "language": "python",
   "name": "python3"
  },
  "language_info": {
   "codemirror_mode": {
    "name": "ipython",
    "version": 3
   },
   "file_extension": ".py",
   "mimetype": "text/x-python",
   "name": "python",
   "nbconvert_exporter": "python",
   "pygments_lexer": "ipython3",
   "version": "3.7.4"
  }
 },
 "nbformat": 4,
 "nbformat_minor": 5
}
